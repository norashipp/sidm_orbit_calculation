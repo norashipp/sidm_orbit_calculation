{
 "cells": [
  {
   "cell_type": "code",
   "execution_count": 10,
   "metadata": {
    "collapsed": true
   },
   "outputs": [],
   "source": [
    "import numpy as np\n",
    "import matplotlib.pyplot as plt\n",
    "import cPickle\n",
    "\n",
    "%matplotlib inline"
   ]
  },
  {
   "cell_type": "code",
   "execution_count": 11,
   "metadata": {
    "collapsed": true
   },
   "outputs": [],
   "source": [
    "from sidm_orbit_calculation.src.utils.constants import *\n",
    "from sidm_orbit_calculation.src.plotting.make_plots import *"
   ]
  },
  {
   "cell_type": "code",
   "execution_count": 12,
   "metadata": {
    "collapsed": true
   },
   "outputs": [],
   "source": [
    "dpi=175\n",
    "fontsize=9\n",
    "pylab.rc('savefig', dpi=dpi)\n",
    "pylab.rc('text', usetex=True)\n",
    "pylab.rc('font', size=fontsize)\n",
    "pylab.rc('xtick.major', pad=5)\n",
    "pylab.rc('xtick.minor', pad=5)\n",
    "pylab.rc('ytick.major', pad=5)\n",
    "pylab.rc('ytick.minor', pad=5)"
   ]
  },
  {
   "cell_type": "code",
   "execution_count": 13,
   "metadata": {
    "collapsed": true
   },
   "outputs": [],
   "source": [
    "class Data:\n",
    "    def __init__(self,fname):\n",
    "        self.fname = fname\n",
    "        self.times,self.positions,self.momenta,self.gravity,self.drag,self.density,self.host = self.read_data()\n",
    "        # self.x0, self.y0, self.px0, self.py0 = self.initial_conditions()\n",
    "\n",
    "    def read_data(self):\n",
    "        fi = open(self.fname,'rb')\n",
    "        data = cPickle.load(fi)\n",
    "        fi.close()\n",
    "        return data\n",
    "\n",
    "    def initial_conditions(self):\n",
    "        self.x0 = self.positions[0,0]\n",
    "        self.y0 = self.positions[0,1]\n",
    "        self.px0 = self.momenta[0,0]\n",
    "        self.py0 = self.momenta[0,1]\n",
    "        \n",
    "    def compute_values(self):\n",
    "        self.x = self.positions[:,0]\n",
    "        self.y = self.positions[:,1]\n",
    "        self.r = np.sqrt(self.x**2+self.y**2)\n",
    "        self.phi = np.arctan2(self.y,self.x)\n",
    "        self.px = self.momenta[:,0]\n",
    "        self.py = self.momenta[:,1]\n",
    "        self.momentum = np.sqrt(self.px**2+self.py**2)"
   ]
  },
  {
   "cell_type": "code",
   "execution_count": 20,
   "metadata": {
    "collapsed": true
   },
   "outputs": [],
   "source": [
    "data_path = '/Users/nora/sidm_orbit_calculation/src/output/'"
   ]
  },
  {
   "cell_type": "code",
   "execution_count": 21,
   "metadata": {
    "collapsed": false
   },
   "outputs": [
    {
     "name": "stdout",
     "output_type": "stream",
     "text": [
      "Initial position = (-7.43e+20, 9.97e+21) m\n",
      "Initial velocity = (-8.04e+05, -7.5e+03) m/s\n"
     ]
    }
   ],
   "source": [
    "fname = 'pickle.dat'\n",
    "data = Data(data_path + fname)\n",
    "data.initial_conditions()\n",
    "print 'Initial position = (%.3g, %.3g) m' %(data.x0, data.y0)\n",
    "print 'Initial velocity = (%.3g, %.3g) m/s' %(data.px0, data.py0)\n",
    "data.compute_values()"
   ]
  },
  {
   "cell_type": "code",
   "execution_count": 1,
   "metadata": {
    "collapsed": true
   },
   "outputs": [],
   "source": [
    "def select_points(data,nmax=None):\n",
    "    # select data to plot\n",
    "    if not nmax: nmax = len(data.times)\n",
    "    nn = len(data.times)\n",
    "    tt = data.times[0:nmax:nn/500]\n",
    "    xx = data.x[0:nmax:nn/500]/data.host.R_200\n",
    "    yy = data.y[0:nmax:nn/500]/data.host.R_200\n",
    "    vv = data.px[0:nmax:nn/500]\n",
    "    return tt, xx, yy, vv"
   ]
  },
  {
   "cell_type": "code",
   "execution_count": 16,
   "metadata": {
    "collapsed": false,
    "scrolled": false
   },
   "outputs": [],
   "source": [
    "from scipy.special import expi\n",
    "\n",
    "# ANALYTICAL CALCULATION WITHOUT DRAG\n",
    "def analytical_velocity_nodrag(x):\n",
    "    return np.sqrt(2*G*M*(1/x-1/x0))\n",
    "\n",
    "# ANALYTICAL CALCULATION WITH DRAG\n",
    "def analytical_velocity_drag(r):\n",
    "    sigma = 1e4\n",
    "    c1 = (-G * data.host.M * (data.host.rho * sigma * data.x0 * np.exp(data.host.rho * sigma * data.x0 / 2) * expi(-data.host.rho * sigma * data.x0 / 2) + 2)) / (data.x0 * np.exp(data.host.rho * sigma * data.x0 / 2))\n",
    "    return np.sqrt(c1 * r * np.exp(data.host.rho * sigma * r / 2) + G * data.host.M * (data.host.rho * sigma * r * np.exp(data.host.rho * sigma * r / 2) * expi(-0.5 * data.host.rho * sigma * r) + 2)) / np.sqrt(r)"
   ]
  },
  {
   "cell_type": "code",
   "execution_count": 19,
   "metadata": {
    "collapsed": false,
    "scrolled": false
   },
   "outputs": [],
   "source": [
    "def check_velocity(data,drag=False):\n",
    "    tt, xx, yy, vv = select_points(data,nmax=80000)\n",
    "    if drag:\n",
    "        vv_a = analytical_velocity_drag(xx[1:-1]*data.host.R_200)\n",
    "    else:\n",
    "        vv_a = analytical_velocity_nodrag(xx*data.host.R_200)\n",
    "\n",
    "    print 'analytical: (%.5g, %.3g)' %(vv_a.min(),vv_a.max())\n",
    "    print 'numerical: (%.5g, %.3g)' %(np.abs(vv).min(),np.abs(vv).max())\n",
    "        \n",
    "    pylab.figure(figsize=(3,3))\n",
    "    pylab.plot(tt[1:-1],-vv[1:-1]/1e3,'g-',markersize=10,linewidth=2,label='numerical')\n",
    "    # pylab.plot(tt2,-vv2/1e3,'r-',markersize=10,linewidth=2,label='no drag')\n",
    "    pylab.plot(tt[1:-1],vv_a/1e3,'c--',markersize=10,linewidth=2,label='analytical')\n",
    "    pylab.xlabel(r'$\\mathrm{time\\ (seconds)}$')\n",
    "    pylab.ylabel(r'$\\mathrm{velocity\\ (km/s)}$')\n",
    "    # pylab.xscale('log')\n",
    "    pylab.yscale('log')\n",
    "    pylab.legend(fontsize=8,loc='lower right') # fix formatting\n",
    "    pylab.show()"
   ]
  },
  {
   "cell_type": "code",
   "execution_count": null,
   "metadata": {
    "collapsed": false,
    "scrolled": false
   },
   "outputs": [],
   "source": [
    "def drag_force():\n",
    "    fig = plt.figure(figsize=(3,3))\n",
    "    ax = plt.subplot(111)\n",
    "\n",
    "    drag_magnitude = np.sqrt(data.drag[:,0]**2+data.drag[:,1]**2)\n",
    "    ax.plot(xx,drag_magnitude[0:80000:nn/500], 'c', linewidth=2)\n",
    "    # ax.plot(data.r[:-1]/data.host.R_200,drag_magnitude, 'c', linewidth=2)\n",
    "\n",
    "    plt.xlabel(r'$\\mathrm{Radius\\ (r/R_{200})}$')\n",
    "    plt.ylabel(r'$\\mathrm{Effective\\ Drag\\ Force\\ (m/s^2)}$')\n",
    "    # plt.xscale('log')\n",
    "    plt.yscale('log')\n",
    "    \n",
    "    fig = plt.figure(figsize=(3,3))\n",
    "    ax = plt.subplot(111)\n",
    "\n",
    "    ax.plot(-vv*m_to_kpc/seconds_to_years,drag_magnitude[0:80000:nn/500], 'c', linewidth=2)\n",
    "\n",
    "    plt.xlabel(r'$\\mathrm{Particle\\ Velocity\\ (kpc/yr)}$')\n",
    "    plt.ylabel(r'$\\mathrm{Effective\\ Drag\\ Force\\ (m/s^2)}$')\n",
    "    plt.xscale('log')\n",
    "    plt.yscale('log')\n",
    "\n",
    "    plt.show()"
   ]
  },
  {
   "cell_type": "code",
   "execution_count": null,
   "metadata": {
    "collapsed": true
   },
   "outputs": [],
   "source": [
    "def radial_profile():\n",
    "    "
   ]
  }
 ],
 "metadata": {
  "kernelspec": {
   "display_name": "Python 2",
   "language": "python",
   "name": "python2"
  },
  "language_info": {
   "codemirror_mode": {
    "name": "ipython",
    "version": 2
   },
   "file_extension": ".py",
   "mimetype": "text/x-python",
   "name": "python",
   "nbconvert_exporter": "python",
   "pygments_lexer": "ipython2",
   "version": "2.7.11"
  }
 },
 "nbformat": 4,
 "nbformat_minor": 0
}
